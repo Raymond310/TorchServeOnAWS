{
 "cells": [
  {
   "cell_type": "markdown",
   "metadata": {},
   "source": [
    "#  Predict in batch using SageMaker Batch Transform"
   ]
  },
  {
   "cell_type": "code",
   "execution_count": null,
   "metadata": {},
   "outputs": [],
   "source": [
    "import pandas as pd\n",
    "import sagemaker\n",
    "from sagemaker import get_execution_role\n",
    "from sagemaker.utils import name_from_base\n",
    "from sagemaker.pytorch import PyTorchModel\n",
    "\n",
    "role = sagemaker.get_execution_role()\n",
    "model_artefact = '<your-model-s3-path>'"
   ]
  },
  {
   "cell_type": "markdown",
   "metadata": {},
   "source": [
    "## Create SageMaker model"
   ]
  },
  {
   "cell_type": "code",
   "execution_count": null,
   "metadata": {},
   "outputs": [],
   "source": [
    "model = PyTorchModel(model_data=model_artefact,\n",
    "                   name=name_from_base('bert-model'),\n",
    "                   role=role, \n",
    "                   entry_point='predict_batch.py',\n",
    "                   source_dir='source_dir',\n",
    "                   framework_version='1.5.0')"
   ]
  },
  {
   "cell_type": "markdown",
   "metadata": {},
   "source": [
    "## Predict"
   ]
  },
  {
   "cell_type": "code",
   "execution_count": null,
   "metadata": {},
   "outputs": [],
   "source": [
    "model_name = model.name\n",
    "test_data = 's3://sagemaker-eu-west-1-366243680492/data-processing-2020-06-28-02-22-46-897/output/preprocessed/test_batch_transform.csv'\n",
    "s3_output = 's3://sagemaker-eu-west-1-366243680492/data-processing-2020-06-28-02-22-46-897/output/preprocessed'\n",
    "\n",
    "\n",
    "transformer = model.transformer(\n",
    "    instance_count=1, \n",
    "    instance_type='ml.m5.xlarge',\n",
    "    strategy='SingleRecord',\n",
    "    assemble_with='Line',\n",
    "    accept = 'text/csv',\n",
    "    max_concurrent_transforms=50,\n",
    "    output_path=s3_output\n",
    ")"
   ]
  },
  {
   "cell_type": "code",
   "execution_count": null,
   "metadata": {
    "scrolled": true
   },
   "outputs": [],
   "source": [
    "transformer.transform(\n",
    "    test_data,\n",
    "    content_type='text/csv',\n",
    "    split_type='Line',\n",
    "    join_source='Input'\n",
    ")\n",
    "transformer.wait()"
   ]
  },
  {
   "cell_type": "code",
   "execution_count": null,
   "metadata": {},
   "outputs": [],
   "source": []
  }
 ],
 "metadata": {
  "kernelspec": {
   "display_name": "conda_pytorch_p36",
   "language": "python",
   "name": "conda_pytorch_p36"
  },
  "language_info": {
   "codemirror_mode": {
    "name": "ipython",
    "version": 3
   },
   "file_extension": ".py",
   "mimetype": "text/x-python",
   "name": "python",
   "nbconvert_exporter": "python",
   "pygments_lexer": "ipython3",
   "version": "3.6.5"
  }
 },
 "nbformat": 4,
 "nbformat_minor": 2
}
